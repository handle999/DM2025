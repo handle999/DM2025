{
 "cells": [
  {
   "cell_type": "markdown",
   "id": "7c14674b-c818-42d2-9a3f-2ec4fc6e9561",
   "metadata": {},
   "source": [
    "# 3、分析"
   ]
  },
  {
   "cell_type": "markdown",
   "id": "9698742f-4b4f-476f-935f-ad9f750f9876",
   "metadata": {},
   "source": [
    "已经建立了群体用户画像，就在可视化分析的后面\n",
    "\n",
    "然后我需要对这些csv求一些基本统计量之类的东西"
   ]
  },
  {
   "cell_type": "markdown",
   "id": "11e82913-4cc2-4bfb-9550-1fe7bc210e8b",
   "metadata": {},
   "source": [
    "## 3.1 用户画像-基本统计量"
   ]
  },
  {
   "cell_type": "code",
   "execution_count": 1,
   "id": "79618819-affb-464a-9391-2d6fccd69802",
   "metadata": {},
   "outputs": [],
   "source": [
    "import os\n",
    "import pandas as pd\n",
    "import json\n",
    "from datetime import datetime\n",
    "from collections import Counter\n",
    "import time\n",
    "from tqdm import tqdm\n"
   ]
  },
  {
   "cell_type": "code",
   "execution_count": 2,
   "id": "b9769454-0bd0-4df0-a440-12588384d72b",
   "metadata": {},
   "outputs": [
    {
     "name": "stdout",
     "output_type": "stream",
     "text": [
      "10G_data_new/sum/purchase_category_stats.csv\n",
      "10G_data_new/sum/login_first_date_stats.csv\n",
      "10G_data_new/sum/login_location_stats.csv\n",
      "10G_data_new/sum/email_domain_bins.csv\n",
      "10G_data_new/sum/timestamp_bins.csv\n",
      "10G_data_new/sum/income_bins.csv\n",
      "10G_data_new/sum/purchase_date_stats.csv\n",
      "10G_data_new/sum/login_device_stats.csv\n",
      "10G_data_new/sum/country_bins.csv\n",
      "10G_data_new/sum/purchase_payment_method_stats.csv\n",
      "10G_data_new/sum/age_bins.csv\n",
      "10G_data_new/sum/address_province_bins.csv\n",
      "10G_data_new/sum/purchase_status_stats.csv\n",
      "10G_data_new/sum/avg_price_bins.csv\n",
      "10G_data_new/sum/phone_code_bins.csv\n",
      "10G_data_new/sum/gender_bins.csv\n",
      "10G_data_new/sum/login_count_bins.csv\n",
      "10G_data_new/sum/login_count_stats.csv\n",
      "                             filename  total_count  unique_keys      max_key  \\\n",
      "0         purchase_category_stats.csv     45000000           42           耳机   \n",
      "1          login_first_date_stats.csv     45000000         1910   2025-03-22   \n",
      "2            login_location_stats.csv     71663185            3         home   \n",
      "3               email_domain_bins.csv     45000000            6  outlook.com   \n",
      "4                  timestamp_bins.csv    562506950         8784     (83, 23)   \n",
      "5                     income_bins.csv     45000000         1000          131   \n",
      "6             purchase_date_stats.csv     45000000         1910   2023-01-24   \n",
      "7              login_device_stats.csv     71660439            3       mobile   \n",
      "8                    country_bins.csv     45000000           10           英国   \n",
      "9   purchase_payment_method_stats.csv     45000000            7           银联   \n",
      "10                       age_bins.csv     45000000           83           82   \n",
      "11          address_province_bins.csv     45000000           35           其他   \n",
      "12          purchase_status_stats.csv     45000000            3          已支付   \n",
      "13                 avg_price_bins.csv     45000000          101           51   \n",
      "14                phone_code_bins.csv     45000000           10           44   \n",
      "15                    gender_bins.csv     45000000            4            男   \n",
      "16               login_count_bins.csv     45000000           96           33   \n",
      "17              login_count_stats.csv     45000000           96           33   \n",
      "\n",
      "    max_count     min_key  min_count  top_3_ratio  \n",
      "0     1073163          饮料    1068337       0.0715  \n",
      "1      175664  2020-01-01         84       0.0117  \n",
      "2    23889693        work   23884926       1.0000  \n",
      "3     7502985     163.com    7498113       0.5001  \n",
      "4      455194     (95, 5)       5761       0.0024  \n",
      "5       45576         789      44428       0.0030  \n",
      "6       24054  2024-10-10      23046       0.0016  \n",
      "7    23888065     desktop   23886062       1.0000  \n",
      "8     4501669          中国    4498337       0.3001  \n",
      "9     6434053         云闪付    6425327       0.4287  \n",
      "10     543856          46     539866       0.0362  \n",
      "11    9003537         黑龙江    1001859       0.2558  \n",
      "12   15003797        部分退款   14996265       1.0000  \n",
      "13     451894         100       4537       0.0301  \n",
      "14    4501669          86    4498337       0.3001  \n",
      "15   21603397          其他     898865       0.9800  \n",
      "16     470408          31     466853       0.0314  \n",
      "17     470408          31     466853       0.0314  \n"
     ]
    }
   ],
   "source": [
    "# 10G\n",
    "csv_dir = \"10G_data_new/sum\"\n",
    "\n",
    "# 定义一个列表来收集每个CSV文件的统计信息\n",
    "summary_stats = []\n",
    "\n",
    "# 遍历目录下所有CSV文件\n",
    "for filename in os.listdir(csv_dir):\n",
    "    if filename.endswith(\".csv\"):\n",
    "        file_path = os.path.join(csv_dir, filename)\n",
    "        try:\n",
    "            df = pd.read_csv(file_path)\n",
    "            print(file_path)\n",
    "            if \"key\" not in df.columns or \"count\" not in df.columns:\n",
    "                continue  # 跳过格式不对的文件\n",
    "            \n",
    "            df[\"count\"] = pd.to_numeric(df[\"count\"], errors=\"coerce\").fillna(0)\n",
    "            total_count = df[\"count\"].sum()\n",
    "            unique_keys = df[\"key\"].nunique()\n",
    "            max_row = df.loc[df[\"count\"].idxmax()]\n",
    "            min_row = df.loc[df[\"count\"].idxmin()]\n",
    "            top_3_sum = df.nlargest(3, \"count\")[\"count\"].sum()\n",
    "            top_3_ratio = top_3_sum / total_count if total_count else 0\n",
    "\n",
    "            summary_stats.append({\n",
    "                \"filename\": filename,\n",
    "                \"total_count\": total_count,\n",
    "                \"unique_keys\": unique_keys,\n",
    "                \"max_key\": max_row[\"key\"],\n",
    "                \"max_count\": max_row[\"count\"],\n",
    "                \"min_key\": min_row[\"key\"],\n",
    "                \"min_count\": min_row[\"count\"],\n",
    "                \"top_3_ratio\": round(top_3_ratio, 4)\n",
    "            })\n",
    "        except Exception as e:\n",
    "            print(f\"Error processing {filename}: {e}\")\n",
    "\n",
    "# 转换为DataFrame\n",
    "summary_df = pd.DataFrame(summary_stats)\n",
    "\n",
    "print(summary_df)\n",
    "# 保存输出结果\n",
    "output_path = \"10G_data_new/sum/user_profile_summary.csv\"\n",
    "summary_df.to_csv(output_path, index=False)\n"
   ]
  },
  {
   "cell_type": "code",
   "execution_count": 3,
   "id": "bc9b8378-f45b-48d5-abd0-1eca710b4d76",
   "metadata": {},
   "outputs": [
    {
     "name": "stdout",
     "output_type": "stream",
     "text": [
      "30G_data_new/sum/purchase_category_stats.csv\n",
      "30G_data_new/sum/login_first_date_stats.csv\n",
      "30G_data_new/sum/login_location_stats.csv\n",
      "30G_data_new/sum/email_domain_bins.csv\n",
      "30G_data_new/sum/timestamp_bins.csv\n",
      "30G_data_new/sum/income_bins.csv\n",
      "30G_data_new/sum/purchase_date_stats.csv\n",
      "30G_data_new/sum/login_device_stats.csv\n",
      "30G_data_new/sum/country_bins.csv\n",
      "30G_data_new/sum/purchase_payment_method_stats.csv\n",
      "30G_data_new/sum/age_bins.csv\n",
      "30G_data_new/sum/address_province_bins.csv\n",
      "30G_data_new/sum/purchase_status_stats.csv\n",
      "30G_data_new/sum/avg_price_bins.csv\n",
      "30G_data_new/sum/phone_code_bins.csv\n",
      "30G_data_new/sum/gender_bins.csv\n",
      "30G_data_new/sum/login_count_bins.csv\n",
      "30G_data_new/sum/login_count_stats.csv\n",
      "                             filename  total_count  unique_keys     max_key  \\\n",
      "0         purchase_category_stats.csv    135000000           42          耳机   \n",
      "1          login_first_date_stats.csv    135000000         1910  2025-03-23   \n",
      "2            login_location_stats.csv    215003214            3        home   \n",
      "3               email_domain_bins.csv    135000000            6      qq.com   \n",
      "4                  timestamp_bins.csv   1687465900         8784    (83, 22)   \n",
      "5                     income_bins.csv    135000000         1001         552   \n",
      "6             purchase_date_stats.csv    135000000         1910  2020-10-26   \n",
      "7              login_device_stats.csv    214994008            3      tablet   \n",
      "8                    country_bins.csv    135000000           10        澳大利亚   \n",
      "9   purchase_payment_method_stats.csv    135000000            7         储蓄卡   \n",
      "10                       age_bins.csv    135000000           83          27   \n",
      "11          address_province_bins.csv    135000000           35          其他   \n",
      "12          purchase_status_stats.csv    135000000            3         已退款   \n",
      "13                 avg_price_bins.csv    135000000          101          62   \n",
      "14                phone_code_bins.csv    135000000           10          61   \n",
      "15                    gender_bins.csv    135000000            4           男   \n",
      "16               login_count_bins.csv    135000000           96          79   \n",
      "17              login_count_stats.csv    135000000           96          79   \n",
      "\n",
      "    max_count     min_key  min_count  top_3_ratio  \n",
      "0     3218327        平板电脑    3210287       0.0715  \n",
      "1      443965  2020-01-01         63       0.0095  \n",
      "2    71671436        work   71663201       1.0000  \n",
      "3    22503843     126.com   22492177       0.5001  \n",
      "4     1205212     (99, 3)      18406       0.0021  \n",
      "5      135994        1000          2       0.0030  \n",
      "6       71654  2021-04-13      69829       0.0016  \n",
      "7    71670950      mobile   71661029       1.0000  \n",
      "8    13502953          德国   13496833       0.3001  \n",
      "9    19288753         支付宝   19282785       0.4286  \n",
      "10    1629722          78    1623565       0.0362  \n",
      "11   26996121         黑龙江    3010777       0.2557  \n",
      "12   45010827        部分退款   44987793       1.0000  \n",
      "13    1353810         100      13367       0.0301  \n",
      "14   13502953          49   13496833       0.3001  \n",
      "15   64810501          其他    2698372       0.9800  \n",
      "16    1409003          36    1403542       0.0313  \n",
      "17    1409003          36    1403542       0.0313  \n"
     ]
    }
   ],
   "source": [
    "# 30G\n",
    "csv_dir = \"30G_data_new/sum\"\n",
    "\n",
    "# 定义一个列表来收集每个CSV文件的统计信息\n",
    "summary_stats = []\n",
    "\n",
    "# 遍历目录下所有CSV文件\n",
    "for filename in os.listdir(csv_dir):\n",
    "    if filename.endswith(\".csv\"):\n",
    "        file_path = os.path.join(csv_dir, filename)\n",
    "        try:\n",
    "            df = pd.read_csv(file_path)\n",
    "            print(file_path)\n",
    "            if \"key\" not in df.columns or \"count\" not in df.columns:\n",
    "                continue  # 跳过格式不对的文件\n",
    "            \n",
    "            df[\"count\"] = pd.to_numeric(df[\"count\"], errors=\"coerce\").fillna(0)\n",
    "            total_count = df[\"count\"].sum()\n",
    "            unique_keys = df[\"key\"].nunique()\n",
    "            max_row = df.loc[df[\"count\"].idxmax()]\n",
    "            min_row = df.loc[df[\"count\"].idxmin()]\n",
    "            top_3_sum = df.nlargest(3, \"count\")[\"count\"].sum()\n",
    "            top_3_ratio = top_3_sum / total_count if total_count else 0\n",
    "\n",
    "            summary_stats.append({\n",
    "                \"filename\": filename,\n",
    "                \"total_count\": total_count,\n",
    "                \"unique_keys\": unique_keys,\n",
    "                \"max_key\": max_row[\"key\"],\n",
    "                \"max_count\": max_row[\"count\"],\n",
    "                \"min_key\": min_row[\"key\"],\n",
    "                \"min_count\": min_row[\"count\"],\n",
    "                \"top_3_ratio\": round(top_3_ratio, 4)\n",
    "            })\n",
    "        except Exception as e:\n",
    "            print(f\"Error processing {filename}: {e}\")\n",
    "\n",
    "# 转换为DataFrame\n",
    "summary_df = pd.DataFrame(summary_stats)\n",
    "\n",
    "print(summary_df)\n",
    "# 保存输出结果\n",
    "output_path = \"30G_data_new/sum/user_profile_summary.csv\"\n",
    "summary_df.to_csv(output_path, index=False)\n"
   ]
  },
  {
   "cell_type": "markdown",
   "id": "6fe10371-5ef4-4aa0-9214-4ebdb6715a65",
   "metadata": {},
   "source": [
    "## 3.2 用户行为分析"
   ]
  },
  {
   "cell_type": "markdown",
   "id": "fa50c4b9",
   "metadata": {},
   "source": [
    "分析的核心字段（行为相关）\n",
    "\n",
    "\n",
    "| 字段 | 描述 | 可分析行为 | \n",
    "| ---- | ---- | --------- | \n",
    "| last_login, registration_date | 时间戳 | 生命周期、活跃时间、冷启动用户 | \n",
    "| login_history（JSON） | 登录次数、设备、时长、登录时间分布 | 登录频率、日活跃、设备偏好 | \n",
    "| purchase_history（JSON） | 商品类别、支付、价格、时间 | 消费能力、购物频率、偏好模式 | \n",
    "| is_active | 用户状态 | 用户活跃度、唤醒策略 | "
   ]
  },
  {
   "cell_type": "markdown",
   "id": "7eaf8ff8",
   "metadata": {},
   "source": [
    "最终希望对于每个用户，统计这些比较关键的信息，用于刻画用户的行为\n",
    "\n",
    "| 特征名 | 含义 |\n",
    "| ----- | ----- |\n",
    "| login_days_count | 登录天数 |\n",
    "| most_used_device | 最常用设备 |\n",
    "| purchase_frequency | 购买频次 |\n",
    "| avg_price | 平均消费金额 |\n",
    "| top_category | 最常购买的商品类别 |"
   ]
  },
  {
   "cell_type": "code",
   "execution_count": 4,
   "id": "0fa29b1a",
   "metadata": {},
   "outputs": [],
   "source": [
    "def extract_and_save_behavior_features(input_folder, output_folder):\n",
    "    os.makedirs(output_folder, exist_ok=True)\n",
    "    parquet_files = [f for f in os.listdir(input_folder) if f.endswith(\".parquet\")]\n",
    "\n",
    "    for file in parquet_files:\n",
    "        file_path = os.path.join(input_folder, file)\n",
    "        print(f\"\\n正在处理: {file_path}\")\n",
    "        start_time = time.time()\n",
    "\n",
    "        # df = pd.read_parquet(file_path)    # 太慢了，简化读取\n",
    "        df = pd.read_parquet(file_path, columns=[\"id\", \"fullname\", \"login_history\", \"purchase_history\"])\n",
    "\n",
    "        result_rows = []\n",
    "\n",
    "        for row in tqdm(df.itertuples(index=False), total=len(df), desc=\"行为分析\", ncols=80, leave=False):\n",
    "            user_id = row.id\n",
    "            fullname = row.fullname\n",
    "\n",
    "            # 登录记录\n",
    "            login_history = row.login_history or {}\n",
    "            if isinstance(login_history, str):\n",
    "                try:\n",
    "                    login_history = json.loads(login_history)\n",
    "                except:\n",
    "                    login_history = {}\n",
    "\n",
    "            # 购买记录\n",
    "            purchase_history = row.purchase_history or {}\n",
    "            if isinstance(purchase_history, str):\n",
    "                try:\n",
    "                    purchase_history = json.loads(purchase_history)\n",
    "                except:\n",
    "                    purchase_history = {}\n",
    "\n",
    "            # 登录行为\n",
    "            login_days = login_history.get(\"login_count\")\n",
    "            devices = login_history.get(\"devices\", [])\n",
    "            if devices:\n",
    "                most_common_device = Counter(devices).most_common(1)[0][0]\n",
    "\n",
    "            # 购买行为\n",
    "            avg_price = purchase_history.get(\"avg_price\")\n",
    "            category = purchase_history.get(\"categories\")\n",
    "            pay_method = purchase_history.get(\"payment_method\")\n",
    "            pay_status = purchase_history.get(\"payment_status\")\n",
    "\n",
    "            result_rows.append({\n",
    "                \"id\": user_id,\n",
    "                \"fullname\": fullname,\n",
    "                \"login_days\": login_days,\n",
    "                \"most_common_device\": most_common_device,\n",
    "                \"avg_price\": avg_price,\n",
    "                \"purchase_category\": category,\n",
    "                \"payment_method\": pay_method,\n",
    "                \"payment_status\": pay_status,\n",
    "            })\n",
    "\n",
    "        # 保存当前文件的结果\n",
    "        output_csv = os.path.join(output_folder, file.replace(\".parquet\", \".csv\"))\n",
    "        pd.DataFrame(result_rows).to_csv(output_csv, index=False)\n",
    "\n",
    "        end_time = time.time()\n",
    "        print(f\"完成处理: {file_path}，耗时 {end_time - start_time:.2f}s，保存为：{output_csv}\")\n",
    "        "
   ]
  },
  {
   "cell_type": "code",
   "execution_count": 5,
   "id": "5cfa7f83",
   "metadata": {},
   "outputs": [
    {
     "name": "stdout",
     "output_type": "stream",
     "text": [
      "\n",
      "正在处理: 10G_sample/parquet-00000-1000.parquet\n"
     ]
    },
    {
     "name": "stderr",
     "output_type": "stream",
     "text": [
      "                                                                                "
     ]
    },
    {
     "name": "stdout",
     "output_type": "stream",
     "text": [
      "完成处理: 10G_sample/parquet-00000-1000.parquet，耗时 0.04s，保存为：10G_sample_csv/parquet-00000-1000.csv\n",
      "对于目录10G_sample，执行时间为0.05s\n"
     ]
    },
    {
     "name": "stderr",
     "output_type": "stream",
     "text": [
      "\r"
     ]
    }
   ],
   "source": [
    "# 用之前采样的1000条测试\n",
    "folder = \"10G_sample\"\n",
    "csv_folder = \"10G_sample_csv\"\n",
    "start_time = time.time()\n",
    "extract_and_save_behavior_features(folder, csv_folder)\n",
    "end_time = time.time()\n",
    "print(f\"对于目录{folder}，执行时间为{(end_time-start_time):.2f}s\")\n"
   ]
  },
  {
   "cell_type": "markdown",
   "id": "463d5ee3",
   "metadata": {},
   "source": [
    "发现没问题，执行10G"
   ]
  },
  {
   "cell_type": "code",
   "execution_count": 6,
   "id": "2bf448f9",
   "metadata": {},
   "outputs": [
    {
     "name": "stdout",
     "output_type": "stream",
     "text": [
      "\n",
      "正在处理: 10G_data_new/part-00002.parquet\n"
     ]
    },
    {
     "name": "stderr",
     "output_type": "stream",
     "text": [
      "                                                                                \r"
     ]
    },
    {
     "name": "stdout",
     "output_type": "stream",
     "text": [
      "完成处理: 10G_data_new/part-00002.parquet，耗时 614.58s，保存为：10G_data_new_csv/part-00002.csv\n",
      "\n",
      "正在处理: 10G_data_new/part-00006.parquet\n"
     ]
    },
    {
     "name": "stderr",
     "output_type": "stream",
     "text": [
      "                                                                                \r"
     ]
    },
    {
     "name": "stdout",
     "output_type": "stream",
     "text": [
      "完成处理: 10G_data_new/part-00006.parquet，耗时 614.78s，保存为：10G_data_new_csv/part-00006.csv\n",
      "\n",
      "正在处理: 10G_data_new/part-00004.parquet\n"
     ]
    },
    {
     "name": "stderr",
     "output_type": "stream",
     "text": [
      "                                                                                \r"
     ]
    },
    {
     "name": "stdout",
     "output_type": "stream",
     "text": [
      "完成处理: 10G_data_new/part-00004.parquet，耗时 620.74s，保存为：10G_data_new_csv/part-00004.csv\n",
      "\n",
      "正在处理: 10G_data_new/part-00000.parquet\n"
     ]
    },
    {
     "name": "stderr",
     "output_type": "stream",
     "text": [
      "                                                                                \r"
     ]
    },
    {
     "name": "stdout",
     "output_type": "stream",
     "text": [
      "完成处理: 10G_data_new/part-00000.parquet，耗时 606.82s，保存为：10G_data_new_csv/part-00000.csv\n",
      "\n",
      "正在处理: 10G_data_new/part-00003.parquet\n"
     ]
    },
    {
     "name": "stderr",
     "output_type": "stream",
     "text": [
      "                                                                                \r"
     ]
    },
    {
     "name": "stdout",
     "output_type": "stream",
     "text": [
      "完成处理: 10G_data_new/part-00003.parquet，耗时 619.71s，保存为：10G_data_new_csv/part-00003.csv\n",
      "\n",
      "正在处理: 10G_data_new/part-00001.parquet\n"
     ]
    },
    {
     "name": "stderr",
     "output_type": "stream",
     "text": [
      "                                                                                \r"
     ]
    },
    {
     "name": "stdout",
     "output_type": "stream",
     "text": [
      "完成处理: 10G_data_new/part-00001.parquet，耗时 618.41s，保存为：10G_data_new_csv/part-00001.csv\n",
      "\n",
      "正在处理: 10G_data_new/part-00007.parquet\n"
     ]
    },
    {
     "name": "stderr",
     "output_type": "stream",
     "text": [
      "                                                                                \r"
     ]
    },
    {
     "name": "stdout",
     "output_type": "stream",
     "text": [
      "完成处理: 10G_data_new/part-00007.parquet，耗时 630.98s，保存为：10G_data_new_csv/part-00007.csv\n",
      "\n",
      "正在处理: 10G_data_new/part-00005.parquet\n"
     ]
    },
    {
     "name": "stderr",
     "output_type": "stream",
     "text": [
      "                                                                                \r"
     ]
    },
    {
     "name": "stdout",
     "output_type": "stream",
     "text": [
      "完成处理: 10G_data_new/part-00005.parquet，耗时 629.43s，保存为：10G_data_new_csv/part-00005.csv\n",
      "对于目录10G_data_new，执行时间为4966.14s\n"
     ]
    }
   ],
   "source": [
    "# 10G\n",
    "folder = \"10G_data_new\"\n",
    "csv_folder = \"10G_data_new_csv\"\n",
    "start_time = time.time()\n",
    "extract_and_save_behavior_features(folder, csv_folder)\n",
    "end_time = time.time()\n",
    "print(f\"对于目录{folder}，执行时间为{(end_time-start_time):.2f}s\")\n"
   ]
  },
  {
   "cell_type": "markdown",
   "id": "bdacfca6",
   "metadata": {},
   "source": [
    "后来发现不对，这样太慢了，执行了一波加速，仅选取有用的列读取，这样会更快"
   ]
  },
  {
   "cell_type": "code",
   "execution_count": 6,
   "id": "7072409e",
   "metadata": {},
   "outputs": [
    {
     "name": "stdout",
     "output_type": "stream",
     "text": [
      "\n",
      "正在处理: 30G_data_new/part-00008.parquet\n"
     ]
    },
    {
     "name": "stderr",
     "output_type": "stream",
     "text": [
      "                                                                                \r"
     ]
    },
    {
     "name": "stdout",
     "output_type": "stream",
     "text": [
      "完成处理: 30G_data_new/part-00008.parquet，耗时 235.77s，保存为：30G_data_new_csv/part-00008.csv\n",
      "\n",
      "正在处理: 30G_data_new/part-00013.parquet\n"
     ]
    },
    {
     "name": "stderr",
     "output_type": "stream",
     "text": [
      "                                                                                \r"
     ]
    },
    {
     "name": "stdout",
     "output_type": "stream",
     "text": [
      "完成处理: 30G_data_new/part-00013.parquet，耗时 249.62s，保存为：30G_data_new_csv/part-00013.csv\n",
      "\n",
      "正在处理: 30G_data_new/part-00002.parquet\n"
     ]
    },
    {
     "name": "stderr",
     "output_type": "stream",
     "text": [
      "                                                                                \r"
     ]
    },
    {
     "name": "stdout",
     "output_type": "stream",
     "text": [
      "完成处理: 30G_data_new/part-00002.parquet，耗时 272.03s，保存为：30G_data_new_csv/part-00002.csv\n",
      "\n",
      "正在处理: 30G_data_new/part-00015.parquet\n"
     ]
    },
    {
     "name": "stderr",
     "output_type": "stream",
     "text": [
      "                                                                                \r"
     ]
    },
    {
     "name": "stdout",
     "output_type": "stream",
     "text": [
      "完成处理: 30G_data_new/part-00015.parquet，耗时 280.68s，保存为：30G_data_new_csv/part-00015.csv\n",
      "\n",
      "正在处理: 30G_data_new/part-00010.parquet\n"
     ]
    },
    {
     "name": "stderr",
     "output_type": "stream",
     "text": [
      "                                                                                \r"
     ]
    },
    {
     "name": "stdout",
     "output_type": "stream",
     "text": [
      "完成处理: 30G_data_new/part-00010.parquet，耗时 256.12s，保存为：30G_data_new_csv/part-00010.csv\n",
      "\n",
      "正在处理: 30G_data_new/part-00006.parquet\n"
     ]
    },
    {
     "name": "stderr",
     "output_type": "stream",
     "text": [
      "                                                                                \r"
     ]
    },
    {
     "name": "stdout",
     "output_type": "stream",
     "text": [
      "完成处理: 30G_data_new/part-00006.parquet，耗时 265.56s，保存为：30G_data_new_csv/part-00006.csv\n",
      "\n",
      "正在处理: 30G_data_new/part-00014.parquet\n"
     ]
    },
    {
     "name": "stderr",
     "output_type": "stream",
     "text": [
      "                                                                                \r"
     ]
    },
    {
     "name": "stdout",
     "output_type": "stream",
     "text": [
      "完成处理: 30G_data_new/part-00014.parquet，耗时 274.04s，保存为：30G_data_new_csv/part-00014.csv\n",
      "\n",
      "正在处理: 30G_data_new/part-00011.parquet\n"
     ]
    },
    {
     "name": "stderr",
     "output_type": "stream",
     "text": [
      "                                                                                \r"
     ]
    },
    {
     "name": "stdout",
     "output_type": "stream",
     "text": [
      "完成处理: 30G_data_new/part-00011.parquet，耗时 253.31s，保存为：30G_data_new_csv/part-00011.csv\n",
      "\n",
      "正在处理: 30G_data_new/part-00004.parquet\n"
     ]
    },
    {
     "name": "stderr",
     "output_type": "stream",
     "text": [
      "                                                                                \r"
     ]
    },
    {
     "name": "stdout",
     "output_type": "stream",
     "text": [
      "完成处理: 30G_data_new/part-00004.parquet，耗时 254.51s，保存为：30G_data_new_csv/part-00004.csv\n",
      "\n",
      "正在处理: 30G_data_new/part-00012.parquet\n"
     ]
    },
    {
     "name": "stderr",
     "output_type": "stream",
     "text": [
      "                                                                                \r"
     ]
    },
    {
     "name": "stdout",
     "output_type": "stream",
     "text": [
      "完成处理: 30G_data_new/part-00012.parquet，耗时 261.38s，保存为：30G_data_new_csv/part-00012.csv\n",
      "\n",
      "正在处理: 30G_data_new/part-00009.parquet\n"
     ]
    },
    {
     "name": "stderr",
     "output_type": "stream",
     "text": [
      "                                                                                \r"
     ]
    },
    {
     "name": "stdout",
     "output_type": "stream",
     "text": [
      "完成处理: 30G_data_new/part-00009.parquet，耗时 267.16s，保存为：30G_data_new_csv/part-00009.csv\n",
      "\n",
      "正在处理: 30G_data_new/part-00000.parquet\n"
     ]
    },
    {
     "name": "stderr",
     "output_type": "stream",
     "text": [
      "                                                                                \r"
     ]
    },
    {
     "name": "stdout",
     "output_type": "stream",
     "text": [
      "完成处理: 30G_data_new/part-00000.parquet，耗时 258.99s，保存为：30G_data_new_csv/part-00000.csv\n",
      "\n",
      "正在处理: 30G_data_new/part-00003.parquet\n"
     ]
    },
    {
     "name": "stderr",
     "output_type": "stream",
     "text": [
      "                                                                                \r"
     ]
    },
    {
     "name": "stdout",
     "output_type": "stream",
     "text": [
      "完成处理: 30G_data_new/part-00003.parquet，耗时 255.29s，保存为：30G_data_new_csv/part-00003.csv\n",
      "\n",
      "正在处理: 30G_data_new/part-00001.parquet\n"
     ]
    },
    {
     "name": "stderr",
     "output_type": "stream",
     "text": [
      "                                                                                \r"
     ]
    },
    {
     "name": "stdout",
     "output_type": "stream",
     "text": [
      "完成处理: 30G_data_new/part-00001.parquet，耗时 258.69s，保存为：30G_data_new_csv/part-00001.csv\n",
      "\n",
      "正在处理: 30G_data_new/part-00007.parquet\n"
     ]
    },
    {
     "name": "stderr",
     "output_type": "stream",
     "text": [
      "                                                                                \r"
     ]
    },
    {
     "name": "stdout",
     "output_type": "stream",
     "text": [
      "完成处理: 30G_data_new/part-00007.parquet，耗时 264.18s，保存为：30G_data_new_csv/part-00007.csv\n",
      "\n",
      "正在处理: 30G_data_new/part-00005.parquet\n"
     ]
    },
    {
     "name": "stderr",
     "output_type": "stream",
     "text": [
      "                                                                                \r"
     ]
    },
    {
     "name": "stdout",
     "output_type": "stream",
     "text": [
      "完成处理: 30G_data_new/part-00005.parquet，耗时 260.21s，保存为：30G_data_new_csv/part-00005.csv\n",
      "对于目录30G_data_new，执行时间为4177.96s\n"
     ]
    }
   ],
   "source": [
    "# 30G\n",
    "folder = \"30G_data_new\"\n",
    "csv_folder = \"30G_data_new_csv\"\n",
    "start_time = time.time()\n",
    "extract_and_save_behavior_features(folder, csv_folder)\n",
    "end_time = time.time()\n",
    "print(f\"对于目录{folder}，执行时间为{(end_time-start_time):.2f}s\")\n"
   ]
  },
  {
   "cell_type": "markdown",
   "id": "969f5a1e",
   "metadata": {},
   "source": [
    "## 3.3 高价值用户挖掘\n",
    "\n",
    "然后要分析一下高价值用户"
   ]
  },
  {
   "cell_type": "markdown",
   "id": "ab944afd",
   "metadata": {},
   "source": [
    "太多了，所以正常用到的聚类分析不是很建议，或者说，可以使用随机采样聚类发掘高价值评价标准，然后再寻找\n",
    "\n",
    "或者说，直接使用打分机制"
   ]
  },
  {
   "cell_type": "markdown",
   "id": "6f6c2545",
   "metadata": {},
   "source": [
    " |特征 | 条件 | 得分 | 说明 |\n",
    " | -- | ----- | ---- | ---- |\n",
    " |login_days | > 60 | +2 | 活跃用户 |\n",
    " |login_days | 30 ~ 60 | +1 | 中活跃 |\n",
    " |avg_price | > 5000 | +2 | 消费力高 |\n",
    " |avg_price | 3000 ~ 5000 | +1 | 中消费 |\n",
    " |income | >500000 | +1 | 高收入 |\n",
    " |payment_status | 已支付 | +1 | 有效交易 |\n",
    " |payment_status | 部分退款 / 已退款 | -1 | 有争议 |\n",
    " |most_common_device | 不加分 | 0 | 可选 |\n",
    " |purchase_category | 某些高价值类目（如数码） | +1 | 可选 |"
   ]
  },
  {
   "cell_type": "code",
   "execution_count": 10,
   "id": "4bd99d95",
   "metadata": {},
   "outputs": [],
   "source": [
    "def score_user(login_days, avg_price, income, payment_status):\n",
    "    score = 0\n",
    "    # 登录天数评分\n",
    "    if login_days > 60:\n",
    "        score += 2\n",
    "    elif login_days > 30:\n",
    "        score += 1\n",
    "    # 平均价格评分\n",
    "    if avg_price > 5000:\n",
    "        score += 2\n",
    "    elif avg_price > 3000:\n",
    "        score += 1\n",
    "    # 收入\n",
    "    if income > 500000:\n",
    "        score += 1\n",
    "    # 支付状态评分\n",
    "    if payment_status == \"已支付\":\n",
    "        score += 1\n",
    "    elif payment_status in {\"部分退款\", \"已退款\"}:\n",
    "        score -= 1\n",
    "    return score"
   ]
  },
  {
   "cell_type": "code",
   "execution_count": 16,
   "id": "47b49327",
   "metadata": {},
   "outputs": [],
   "source": [
    "def extract_high_value_ids(input_folder, output_folder, score_threshold=4):\n",
    "    os.makedirs(output_folder, exist_ok=True)\n",
    "    files = [f for f in os.listdir(input_folder) if f.endswith(\".parquet\")]\n",
    "\n",
    "    for file in files:\n",
    "        start_time = time.time()\n",
    "        file_path = os.path.join(input_folder, file)\n",
    "        print(f\"\\n正在处理: {file_path}\")\n",
    "        df = pd.read_parquet(file_path, columns=[\"id\", \"income\", \"login_history\", \"purchase_history\", \"fullname\", \"gender\"], engine=\"pyarrow\")\n",
    "        \n",
    "        high_value_ids = []\n",
    "\n",
    "        for row in tqdm(df.itertuples(index=False), total=len(df), desc=\"筛选高价值\", ncols=80):\n",
    "            # 登录记录\n",
    "            login_history = row.login_history or {}\n",
    "            if isinstance(login_history, str):\n",
    "                try:\n",
    "                    login_history = json.loads(login_history)\n",
    "                except:\n",
    "                    login_history = {}\n",
    "\n",
    "            # 购买记录\n",
    "            purchase_history = row.purchase_history or {}\n",
    "            if isinstance(purchase_history, str):\n",
    "                try:\n",
    "                    purchase_history = json.loads(purchase_history)\n",
    "                except:\n",
    "                    purchase_history = {}\n",
    "\n",
    "            # 登录天数\n",
    "            login_days = login_history.get(\"login_count\")\n",
    "\n",
    "            # 购买价格\n",
    "            avg_price = purchase_history.get(\"avg_price\")\n",
    "\n",
    "            # 收入\n",
    "            income = row.income\n",
    "\n",
    "            login_days = login_history.get(\"login_count\")\n",
    "            avg_price = purchase_history.get(\"avg_price\")\n",
    "            payment_status = purchase_history.get(\"payment_status\")\n",
    "\n",
    "            score = score_user(login_days, avg_price, income, payment_status)\n",
    "\n",
    "            if score >= score_threshold:\n",
    "                high_value_ids.append(row.id)\n",
    "        \n",
    "        print(f\"总计{len(high_value_ids)}名高价值用户\")\n",
    "        output_path = os.path.join(output_folder, file.replace(\".parquet\", \".csv\"))\n",
    "        pd.DataFrame({\"id\": high_value_ids}).to_csv(output_path, index=False)\n",
    "        print(f\"已保存高价值用户到: {output_path}\")\n",
    "\n",
    "        end_time = time.time()\n",
    "        print(f\"用时{(end_time-start_time):.2f}s\")\n"
   ]
  },
  {
   "cell_type": "code",
   "execution_count": 17,
   "id": "74b1c717",
   "metadata": {},
   "outputs": [
    {
     "name": "stdout",
     "output_type": "stream",
     "text": [
      "\n",
      "正在处理: 10G_sample/parquet-00000-1000.parquet\n"
     ]
    },
    {
     "name": "stderr",
     "output_type": "stream",
     "text": [
      "筛选高价值:   0%|                                      | 0/1000 [00:00<?, ?it/s]"
     ]
    },
    {
     "name": "stderr",
     "output_type": "stream",
     "text": [
      "筛选高价值: 100%|████████████████████████| 1000/1000 [00:00<00:00, 43378.88it/s]"
     ]
    },
    {
     "name": "stdout",
     "output_type": "stream",
     "text": [
      "总计268名高价值用户\n",
      "已保存高价值用户到: 10G_sample/parquet-00000-1000.csv\n",
      "用时0.04s\n"
     ]
    },
    {
     "name": "stderr",
     "output_type": "stream",
     "text": [
      "\n"
     ]
    }
   ],
   "source": [
    "# 测试小样本跑程序\n",
    "folder = \"10G_sample\"\n",
    "extract_high_value_ids(folder, folder)\n"
   ]
  },
  {
   "cell_type": "code",
   "execution_count": 18,
   "id": "f38a64ff",
   "metadata": {},
   "outputs": [
    {
     "name": "stdout",
     "output_type": "stream",
     "text": [
      "\n",
      "正在处理: 10G_data_new/part-00002.parquet\n"
     ]
    },
    {
     "name": "stderr",
     "output_type": "stream",
     "text": [
      "筛选高价值: 100%|██████████████████| 5625000/5625000 [01:21<00:00, 69340.00it/s]\n"
     ]
    },
    {
     "name": "stdout",
     "output_type": "stream",
     "text": [
      "总计1533736名高价值用户\n",
      "已保存高价值用户到: 10G_data_new/part-00002.csv\n",
      "用时102.91s\n",
      "\n",
      "正在处理: 10G_data_new/part-00006.parquet\n"
     ]
    },
    {
     "name": "stderr",
     "output_type": "stream",
     "text": [
      "筛选高价值: 100%|██████████████████| 5625000/5625000 [01:25<00:00, 65717.01it/s]\n"
     ]
    },
    {
     "name": "stdout",
     "output_type": "stream",
     "text": [
      "总计1533133名高价值用户\n",
      "已保存高价值用户到: 10G_data_new/part-00006.csv\n",
      "用时115.45s\n",
      "\n",
      "正在处理: 10G_data_new/part-00004.parquet\n"
     ]
    },
    {
     "name": "stderr",
     "output_type": "stream",
     "text": [
      "筛选高价值: 100%|██████████████████| 5625000/5625000 [01:26<00:00, 64854.09it/s]\n"
     ]
    },
    {
     "name": "stdout",
     "output_type": "stream",
     "text": [
      "总计1534805名高价值用户\n",
      "已保存高价值用户到: 10G_data_new/part-00004.csv\n",
      "用时114.71s\n",
      "\n",
      "正在处理: 10G_data_new/part-00000.parquet\n"
     ]
    },
    {
     "name": "stderr",
     "output_type": "stream",
     "text": [
      "筛选高价值: 100%|██████████████████| 5625000/5625000 [01:26<00:00, 64926.40it/s]\n"
     ]
    },
    {
     "name": "stdout",
     "output_type": "stream",
     "text": [
      "总计1533512名高价值用户\n",
      "已保存高价值用户到: 10G_data_new/part-00000.csv\n",
      "用时113.04s\n",
      "\n",
      "正在处理: 10G_data_new/part-00003.parquet\n"
     ]
    },
    {
     "name": "stderr",
     "output_type": "stream",
     "text": [
      "筛选高价值: 100%|██████████████████| 5625000/5625000 [01:22<00:00, 68430.22it/s]\n"
     ]
    },
    {
     "name": "stdout",
     "output_type": "stream",
     "text": [
      "总计1535339名高价值用户\n",
      "已保存高价值用户到: 10G_data_new/part-00003.csv\n",
      "用时105.19s\n",
      "\n",
      "正在处理: 10G_data_new/part-00001.parquet\n"
     ]
    },
    {
     "name": "stderr",
     "output_type": "stream",
     "text": [
      "筛选高价值: 100%|██████████████████| 5625000/5625000 [01:23<00:00, 67548.73it/s]\n"
     ]
    },
    {
     "name": "stdout",
     "output_type": "stream",
     "text": [
      "总计1535606名高价值用户\n",
      "已保存高价值用户到: 10G_data_new/part-00001.csv\n",
      "用时105.84s\n",
      "\n",
      "正在处理: 10G_data_new/part-00007.parquet\n"
     ]
    },
    {
     "name": "stderr",
     "output_type": "stream",
     "text": [
      "筛选高价值: 100%|██████████████████| 5625000/5625000 [01:22<00:00, 67967.18it/s]\n"
     ]
    },
    {
     "name": "stdout",
     "output_type": "stream",
     "text": [
      "总计1535312名高价值用户\n",
      "已保存高价值用户到: 10G_data_new/part-00007.csv\n",
      "用时105.97s\n",
      "\n",
      "正在处理: 10G_data_new/part-00005.parquet\n"
     ]
    },
    {
     "name": "stderr",
     "output_type": "stream",
     "text": [
      "筛选高价值: 100%|██████████████████| 5625000/5625000 [01:21<00:00, 69120.32it/s]\n"
     ]
    },
    {
     "name": "stdout",
     "output_type": "stream",
     "text": [
      "总计1533328名高价值用户\n",
      "已保存高价值用户到: 10G_data_new/part-00005.csv\n",
      "用时105.59s\n"
     ]
    }
   ],
   "source": [
    "# 10G\n",
    "folder = \"10G_data_new\"\n",
    "extract_high_value_ids(folder, folder)\n"
   ]
  },
  {
   "cell_type": "code",
   "execution_count": 19,
   "id": "b227448f",
   "metadata": {},
   "outputs": [
    {
     "name": "stdout",
     "output_type": "stream",
     "text": [
      "\n",
      "正在处理: 30G_data_new/part-00008.parquet\n"
     ]
    },
    {
     "name": "stderr",
     "output_type": "stream",
     "text": [
      "筛选高价值: 100%|██████████████████| 8437500/8437500 [02:01<00:00, 69386.50it/s]\n"
     ]
    },
    {
     "name": "stdout",
     "output_type": "stream",
     "text": [
      "总计2302888名高价值用户\n",
      "已保存高价值用户到: 30G_data_new/part-00008.csv\n",
      "用时152.95s\n",
      "\n",
      "正在处理: 30G_data_new/part-00013.parquet\n"
     ]
    },
    {
     "name": "stderr",
     "output_type": "stream",
     "text": [
      "筛选高价值: 100%|██████████████████| 8437500/8437500 [02:07<00:00, 66307.64it/s]\n"
     ]
    },
    {
     "name": "stdout",
     "output_type": "stream",
     "text": [
      "总计2301143名高价值用户\n",
      "已保存高价值用户到: 30G_data_new/part-00013.csv\n",
      "用时163.45s\n",
      "\n",
      "正在处理: 30G_data_new/part-00002.parquet\n"
     ]
    },
    {
     "name": "stderr",
     "output_type": "stream",
     "text": [
      "筛选高价值: 100%|██████████████████| 8437500/8437500 [02:04<00:00, 67713.19it/s]\n"
     ]
    },
    {
     "name": "stdout",
     "output_type": "stream",
     "text": [
      "总计2301888名高价值用户\n",
      "已保存高价值用户到: 30G_data_new/part-00002.csv\n",
      "用时160.19s\n",
      "\n",
      "正在处理: 30G_data_new/part-00015.parquet\n"
     ]
    },
    {
     "name": "stderr",
     "output_type": "stream",
     "text": [
      "筛选高价值: 100%|██████████████████| 8437500/8437500 [02:01<00:00, 69648.76it/s]\n"
     ]
    },
    {
     "name": "stdout",
     "output_type": "stream",
     "text": [
      "总计2299702名高价值用户\n",
      "已保存高价值用户到: 30G_data_new/part-00015.csv\n",
      "用时162.84s\n",
      "\n",
      "正在处理: 30G_data_new/part-00010.parquet\n"
     ]
    },
    {
     "name": "stderr",
     "output_type": "stream",
     "text": [
      "筛选高价值: 100%|██████████████████| 8437500/8437500 [02:07<00:00, 66030.67it/s]\n"
     ]
    },
    {
     "name": "stdout",
     "output_type": "stream",
     "text": [
      "总计2300315名高价值用户\n",
      "已保存高价值用户到: 30G_data_new/part-00010.csv\n",
      "用时165.62s\n",
      "\n",
      "正在处理: 30G_data_new/part-00006.parquet\n"
     ]
    },
    {
     "name": "stderr",
     "output_type": "stream",
     "text": [
      "筛选高价值: 100%|██████████████████| 8437500/8437500 [02:05<00:00, 67326.72it/s]\n"
     ]
    },
    {
     "name": "stdout",
     "output_type": "stream",
     "text": [
      "总计2300878名高价值用户\n",
      "已保存高价值用户到: 30G_data_new/part-00006.csv\n",
      "用时165.55s\n",
      "\n",
      "正在处理: 30G_data_new/part-00014.parquet\n"
     ]
    },
    {
     "name": "stderr",
     "output_type": "stream",
     "text": [
      "筛选高价值: 100%|██████████████████| 8437500/8437500 [02:08<00:00, 65718.83it/s]\n"
     ]
    },
    {
     "name": "stdout",
     "output_type": "stream",
     "text": [
      "总计2301688名高价值用户\n",
      "已保存高价值用户到: 30G_data_new/part-00014.csv\n",
      "用时163.65s\n",
      "\n",
      "正在处理: 30G_data_new/part-00011.parquet\n"
     ]
    },
    {
     "name": "stderr",
     "output_type": "stream",
     "text": [
      "筛选高价值: 100%|██████████████████| 8437500/8437500 [02:08<00:00, 65850.35it/s]\n"
     ]
    },
    {
     "name": "stdout",
     "output_type": "stream",
     "text": [
      "总计2300344名高价值用户\n",
      "已保存高价值用户到: 30G_data_new/part-00011.csv\n",
      "用时161.78s\n",
      "\n",
      "正在处理: 30G_data_new/part-00004.parquet\n"
     ]
    },
    {
     "name": "stderr",
     "output_type": "stream",
     "text": [
      "筛选高价值: 100%|██████████████████| 8437500/8437500 [02:06<00:00, 66480.77it/s]\n"
     ]
    },
    {
     "name": "stdout",
     "output_type": "stream",
     "text": [
      "总计2302634名高价值用户\n",
      "已保存高价值用户到: 30G_data_new/part-00004.csv\n",
      "用时162.53s\n",
      "\n",
      "正在处理: 30G_data_new/part-00012.parquet\n"
     ]
    },
    {
     "name": "stderr",
     "output_type": "stream",
     "text": [
      "筛选高价值: 100%|██████████████████| 8437500/8437500 [02:07<00:00, 65963.24it/s]\n"
     ]
    },
    {
     "name": "stdout",
     "output_type": "stream",
     "text": [
      "总计2301805名高价值用户\n",
      "已保存高价值用户到: 30G_data_new/part-00012.csv\n",
      "用时162.06s\n",
      "\n",
      "正在处理: 30G_data_new/part-00009.parquet\n"
     ]
    },
    {
     "name": "stderr",
     "output_type": "stream",
     "text": [
      "筛选高价值: 100%|██████████████████| 8437500/8437500 [02:06<00:00, 66902.58it/s]\n"
     ]
    },
    {
     "name": "stdout",
     "output_type": "stream",
     "text": [
      "总计2298601名高价值用户\n",
      "已保存高价值用户到: 30G_data_new/part-00009.csv\n",
      "用时159.63s\n",
      "\n",
      "正在处理: 30G_data_new/part-00000.parquet\n"
     ]
    },
    {
     "name": "stderr",
     "output_type": "stream",
     "text": [
      "筛选高价值: 100%|██████████████████| 8437500/8437500 [02:08<00:00, 65613.79it/s]\n"
     ]
    },
    {
     "name": "stdout",
     "output_type": "stream",
     "text": [
      "总计2302179名高价值用户\n",
      "已保存高价值用户到: 30G_data_new/part-00000.csv\n",
      "用时163.83s\n",
      "\n",
      "正在处理: 30G_data_new/part-00003.parquet\n"
     ]
    },
    {
     "name": "stderr",
     "output_type": "stream",
     "text": [
      "筛选高价值: 100%|██████████████████| 8437500/8437500 [02:02<00:00, 68839.34it/s]\n"
     ]
    },
    {
     "name": "stdout",
     "output_type": "stream",
     "text": [
      "总计2302014名高价值用户\n",
      "已保存高价值用户到: 30G_data_new/part-00003.csv\n",
      "用时160.15s\n",
      "\n",
      "正在处理: 30G_data_new/part-00001.parquet\n"
     ]
    },
    {
     "name": "stderr",
     "output_type": "stream",
     "text": [
      "筛选高价值: 100%|██████████████████| 8437500/8437500 [02:03<00:00, 68477.68it/s]\n"
     ]
    },
    {
     "name": "stdout",
     "output_type": "stream",
     "text": [
      "总计2301469名高价值用户\n",
      "已保存高价值用户到: 30G_data_new/part-00001.csv\n",
      "用时159.85s\n",
      "\n",
      "正在处理: 30G_data_new/part-00007.parquet\n"
     ]
    },
    {
     "name": "stderr",
     "output_type": "stream",
     "text": [
      "筛选高价值: 100%|██████████████████| 8437500/8437500 [01:59<00:00, 70444.06it/s]\n"
     ]
    },
    {
     "name": "stdout",
     "output_type": "stream",
     "text": [
      "总计2301664名高价值用户\n",
      "已保存高价值用户到: 30G_data_new/part-00007.csv\n",
      "用时152.58s\n",
      "\n",
      "正在处理: 30G_data_new/part-00005.parquet\n"
     ]
    },
    {
     "name": "stderr",
     "output_type": "stream",
     "text": [
      "筛选高价值: 100%|██████████████████| 8437500/8437500 [02:07<00:00, 66253.43it/s]\n"
     ]
    },
    {
     "name": "stdout",
     "output_type": "stream",
     "text": [
      "总计2300040名高价值用户\n",
      "已保存高价值用户到: 30G_data_new/part-00005.csv\n",
      "用时163.31s\n"
     ]
    }
   ],
   "source": [
    "# 30G\n",
    "folder = \"30G_data_new\"\n",
    "extract_high_value_ids(folder, folder)\n"
   ]
  },
  {
   "cell_type": "markdown",
   "id": "e9890f6a",
   "metadata": {},
   "source": [
    "因此就获得了10G和30G数据的高价值用户的id列表"
   ]
  }
 ],
 "metadata": {
  "kernelspec": {
   "display_name": "FastSAM",
   "language": "python",
   "name": "python3"
  },
  "language_info": {
   "codemirror_mode": {
    "name": "ipython",
    "version": 3
   },
   "file_extension": ".py",
   "mimetype": "text/x-python",
   "name": "python",
   "nbconvert_exporter": "python",
   "pygments_lexer": "ipython3",
   "version": "3.9.18"
  }
 },
 "nbformat": 4,
 "nbformat_minor": 5
}
