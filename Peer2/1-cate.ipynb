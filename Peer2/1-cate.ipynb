{
 "cells": [
  {
   "cell_type": "markdown",
   "id": "9ef3c984",
   "metadata": {},
   "source": [
    "# 1. 商品类别关联规则挖掘：\n",
    "\n",
    "- 分析用户在同一订单中购买的不同商品类别之间的关联关系\n",
    "- 找出支持度（support）≥ 0.02、置信度（confidence）≥ 0.5的频繁项集和关联规则\n",
    "- 特别关注电子产品与其他类别之间的关联关系"
   ]
  },
  {
   "cell_type": "code",
   "execution_count": 1,
   "id": "f267dcc5",
   "metadata": {},
   "outputs": [],
   "source": [
    "import os\n",
    "import pandas as pd\n",
    "import numpy as np\n",
    "from glob import glob\n",
    "from ast import literal_eval\n",
    "from mlxtend.frequent_patterns import fpgrowth, association_rules\n",
    "from mlxtend.preprocessing import TransactionEncoder\n",
    "import matplotlib.pyplot as plt\n",
    "import seaborn as sns\n"
   ]
  },
  {
   "cell_type": "code",
   "execution_count": 2,
   "id": "627d372a",
   "metadata": {},
   "outputs": [],
   "source": [
    "# 时间统计工具\n",
    "from time import time\n",
    "\n",
    "def log_time(step_name):\n",
    "    def decorator(func):\n",
    "        def wrapper(*args, **kwargs):\n",
    "            print(f\"\\n[START] {step_name}...\")\n",
    "            t0 = time()\n",
    "            result = func(*args, **kwargs)\n",
    "            t1 = time()\n",
    "            print(f\"[END] {step_name} in {t1 - t0:.2f} seconds\")\n",
    "            return result\n",
    "        return wrapper\n",
    "    return decorator\n"
   ]
  },
  {
   "cell_type": "code",
   "execution_count": 3,
   "id": "5dd42cf6",
   "metadata": {},
   "outputs": [
    {
     "name": "stdout",
     "output_type": "stream",
     "text": [
      "\n",
      "[START] Loading and merging Parquet files...\n",
      "[END] Loading and merging Parquet files in 86.51 seconds\n",
      "Data shape: (135000000, 6)\n"
     ]
    }
   ],
   "source": [
    "# 1. 加载 & 合并 parquet 数据\n",
    "@log_time(\"Loading and merging Parquet files\")\n",
    "def load_all_parquets(parquet_dir=\"./30G_data_new_partial\"):\n",
    "    files = glob(os.path.join(parquet_dir, \"*.parquet\"))\n",
    "    dfs = [pd.read_parquet(f) for f in files]\n",
    "    return pd.concat(dfs, ignore_index=True)\n",
    "\n",
    "df = load_all_parquets()\n",
    "print(\"Data shape:\", df.shape)\n"
   ]
  },
  {
   "cell_type": "code",
   "execution_count": 4,
   "id": "d5f77b22",
   "metadata": {},
   "outputs": [
    {
     "name": "stdout",
     "output_type": "stream",
     "text": [
      "0    <class 'numpy.ndarray'>\n",
      "1    <class 'numpy.ndarray'>\n",
      "2    <class 'numpy.ndarray'>\n",
      "3    <class 'numpy.ndarray'>\n",
      "4    <class 'numpy.ndarray'>\n",
      "Name: categories, dtype: object\n"
     ]
    }
   ],
   "source": [
    "# print(df)\n",
    "print(df['categories'].head().apply(type))"
   ]
  },
  {
   "cell_type": "code",
   "execution_count": 5,
   "id": "8110c112",
   "metadata": {},
   "outputs": [
    {
     "name": "stdout",
     "output_type": "stream",
     "text": [
      "\n",
      "[START] Preprocessing 'categories' field...\n"
     ]
    },
    {
     "name": "stdout",
     "output_type": "stream",
     "text": [
      "[END] Preprocessing 'categories' field in 164.32 seconds\n",
      "After filtering, data shape: (107997513, 6)\n"
     ]
    }
   ],
   "source": [
    "# 2. 处理 categories 字段\n",
    "@log_time(\"Preprocessing 'categories' field\")\n",
    "def preprocess_categories(df):\n",
    "    # 将 numpy.ndarray 转为 list\n",
    "    def to_list(x):\n",
    "        if isinstance(x, np.ndarray):\n",
    "            return x.tolist()\n",
    "        elif isinstance(x, list):\n",
    "            return x\n",
    "        elif isinstance(x, str):\n",
    "            try:\n",
    "                val = literal_eval(x)\n",
    "                return val if isinstance(val, list) else None\n",
    "            except:\n",
    "                return None\n",
    "        else:\n",
    "            return None\n",
    "\n",
    "    df['categories'] = df['categories'].apply(to_list)\n",
    "\n",
    "    # 保留长度 >= 2 的列表\n",
    "    df = df[df['categories'].apply(lambda x: isinstance(x, list) and len(x) >= 2)]\n",
    "\n",
    "    return df\n",
    "\n",
    "df = preprocess_categories(df)\n",
    "print(\"After filtering, data shape:\", df.shape)\n"
   ]
  },
  {
   "cell_type": "code",
   "execution_count": 6,
   "id": "b0c0ba3b",
   "metadata": {},
   "outputs": [
    {
     "name": "stdout",
     "output_type": "stream",
     "text": [
      "   avg_price                    categories  category_number payment_method  \\\n",
      "0       7847             [笔记本电脑, 零食, 智能手机]                3            支付宝   \n",
      "1       7561  [智能手机, 婴儿用品, 儿童课外读物, 模型, 玩具]                5             现金   \n",
      "4       2542       [平板电脑, 裤子, 调味品, 耳机, 水产]                5            云闪付   \n",
      "5       3981    [益智玩具, 文具, 蛋奶, 婴儿用品, 平板电脑]                5           微信支付   \n",
      "6       4357                [帽子, 米面, 床上用品]                3             银联   \n",
      "\n",
      "  payment_status purchase_date  \n",
      "0           部分退款    2023-05-05  \n",
      "1           部分退款    2022-01-29  \n",
      "4            已支付    2020-07-21  \n",
      "5           部分退款    2023-08-04  \n",
      "6            已退款    2022-09-06  \n",
      "0                [笔记本电脑, 零食, 智能手机]\n",
      "1     [智能手机, 婴儿用品, 儿童课外读物, 模型, 玩具]\n",
      "4          [平板电脑, 裤子, 调味品, 耳机, 水产]\n",
      "5       [益智玩具, 文具, 蛋奶, 婴儿用品, 平板电脑]\n",
      "6                   [帽子, 米面, 床上用品]\n",
      "7          [音响, 儿童课外读物, 笔记本电脑, 水产]\n",
      "9                   [围巾, 蔬菜, 婴儿用品]\n",
      "10                    [办公用品, 汽车装饰]\n",
      "12                        [内衣, 相机]\n",
      "14              [智能手机, 帽子, 音响, 裤子]\n",
      "Name: categories, dtype: object\n"
     ]
    }
   ],
   "source": [
    "print(df.head(5))\n",
    "print(df.head(10)['categories'])"
   ]
  },
  {
   "cell_type": "code",
   "execution_count": null,
   "id": "053b33a7",
   "metadata": {},
   "outputs": [
    {
     "name": "stdout",
     "output_type": "stream",
     "text": [
      "\n",
      "[START] FP-Growth mining...\n",
      "[INFO] Mining with min_support=0.02, min_confidence=0.5\n"
     ]
    },
    {
     "name": "stdout",
     "output_type": "stream",
     "text": [
      "  Found 42 frequent itemsets\n",
      "\n",
      "Top-20 frequent itemsets (by support count):\n",
      "['模型']: 9542977\n",
      "['围巾']: 9504119\n",
      "['文具']: 9472810\n",
      "['卫浴用品']: 9295653\n",
      "['水果']: 9259872\n",
      "['饮料']: 9183825\n",
      "['智能手机']: 9151838\n",
      "['裙子']: 9076932\n",
      "['零食']: 9054424\n",
      "['耳机']: 8977060\n",
      "['游戏机']: 8943939\n",
      "['裤子']: 8940869\n",
      "['益智玩具']: 8912537\n",
      "['笔记本电脑']: 8874020\n",
      "['健身器材']: 8873289\n",
      "['智能手表']: 8838529\n",
      "['儿童课外读物']: 8800545\n",
      "['内衣']: 8798714\n",
      "['外套']: 8764536\n",
      "['婴儿用品']: 8694650\n",
      "\n",
      "Top-20 frequent itemsets with ≥2 items (by support count):\n",
      "\n",
      "No rules found with confidence ≥ 0.5. Showing Top-20 rules without filtering...\n",
      "\n",
      "Top-20 association rules:\n",
      "\n",
      "[Saved] All rules saved to association_rules_top.csv\n",
      "[END] FP-Growth mining in 2646.77 seconds\n"
     ]
    }
   ],
   "source": [
    "@log_time(\"FP-Growth mining\")\n",
    "def mine_frequent_itemsets_and_rules(transactions, min_support=0.02, min_confidence=0.5, top_k=20):\n",
    "    print(f\"[INFO] Mining with min_support={min_support}, min_confidence={min_confidence}\")\n",
    "    \n",
    "    te = TransactionEncoder()\n",
    "    te_ary = te.fit_transform(transactions)\n",
    "    df_te = pd.DataFrame(te_ary, columns=te.columns_)\n",
    "\n",
    "    # Step 1: Frequent Itemsets\n",
    "    frequent_itemsets = fpgrowth(df_te, min_support=min_support, use_colnames=True)\n",
    "    frequent_itemsets['length'] = frequent_itemsets['itemsets'].apply(len)\n",
    "    frequent_itemsets['support_count'] = (frequent_itemsets['support'] * len(df_te)).astype(int)\n",
    "\n",
    "    print(f\"  Found {len(frequent_itemsets)} frequent itemsets\")\n",
    "\n",
    "    # 打印 Top-K 所有（含单项）频繁项集（可选）\n",
    "    print(f\"\\nTop-{top_k} frequent itemsets (by support count):\")\n",
    "    top_itemsets = frequent_itemsets.sort_values(by=\"support_count\", ascending=False).head(top_k)\n",
    "    for _, row in top_itemsets.iterrows():\n",
    "        print(f\"{list(row['itemsets'])}: {row['support_count']}\")\n",
    "    frequent_itemsets.to_csv(\"frequent_itemsets_all.csv\", index=False)\n",
    "\n",
    "    # 🔍 打印 Top-K 非单项频繁项集\n",
    "    multi_itemsets = frequent_itemsets[frequent_itemsets['length'] >= 2]\n",
    "    top_multi_itemsets = multi_itemsets.sort_values(by=\"support_count\", ascending=False).head(top_k)\n",
    "    print(f\"\\nTop-{top_k} frequent itemsets with ≥2 items (by support count):\")\n",
    "    for _, row in top_multi_itemsets.iterrows():\n",
    "        print(f\"{list(row['itemsets'])}: {row['support_count']}\")\n",
    "    multi_itemsets.to_csv(\"frequent_itemsets_multi.csv\", index=False)\n",
    "\n",
    "    # Step 2: Association Rules\n",
    "    rules = association_rules(frequent_itemsets, metric=\"confidence\", min_threshold=min_confidence)\n",
    "    rules[\"lift\"] = rules[\"lift\"].round(3)\n",
    "    rules[\"confidence\"] = rules[\"confidence\"].round(3)\n",
    "    rules[\"support\"] = rules[\"support\"].round(3)\n",
    "\n",
    "    if rules.empty:\n",
    "        print(f\"\\nNo rules found with confidence ≥ {min_confidence}. Showing Top-{top_k} rules without filtering...\")\n",
    "        rules = association_rules(frequent_itemsets, metric=\"confidence\", min_threshold=0.0)\n",
    "        rules = rules.sort_values(by=\"confidence\", ascending=False).head(top_k)\n",
    "    else:\n",
    "        print(f\"\\nGenerated {len(rules)} rules\")\n",
    "        rules = rules.sort_values(by=\"confidence\", ascending=False).head(top_k)\n",
    "\n",
    "    # 打印 Top-K 规则\n",
    "    print(f\"\\nTop-{top_k} association rules:\")\n",
    "    for _, row in rules.iterrows():\n",
    "        antecedent = list(row['antecedents'])\n",
    "        consequent = list(row['consequents'])\n",
    "        print(f\"({antecedent} => {consequent}): support={row['support']}, confidence={row['confidence']}, lift={row['lift']}\")\n",
    "\n",
    "    # 保存为 CSV（可选）\n",
    "    rules.to_csv(\"association_rules_top.csv\", index=False)\n",
    "    print(\"\\n[Saved] All rules saved to association_rules_top.csv\")\n",
    "\n",
    "    return frequent_itemsets, rules\n",
    "\n",
    "# 执行\n",
    "frequent_itemsets, rules = mine_frequent_itemsets_and_rules(\n",
    "    df['categories'].tolist(),\n",
    "    min_support=0.02, \n",
    "    min_confidence=0.5,\n",
    "    top_k=20\n",
    ")\n"
   ]
  },
  {
   "cell_type": "code",
   "execution_count": 8,
   "id": "91280403",
   "metadata": {},
   "outputs": [
    {
     "name": "stdout",
     "output_type": "stream",
     "text": [
      "\n",
      "[START] Filtering electronics-related rules...\n",
      "[END] Filtering electronics-related rules in 0.00 seconds\n",
      "Electronics rules count: 0\n"
     ]
    }
   ],
   "source": [
    "# 4. 筛选电子产品相关规则\n",
    "@log_time(\"Filtering electronics-related rules\")\n",
    "def filter_electronics_rules(rules):\n",
    "    electronic_keywords = ['笔记本电脑', '平板电脑', '智能手机', '耳机', '相机', '电视']\n",
    "    def contains_electronics(itemset):\n",
    "        return any(e in itemset for e in electronic_keywords)\n",
    "\n",
    "    return rules[\n",
    "        rules['antecedents'].apply(contains_electronics) |\n",
    "        rules['consequents'].apply(contains_electronics)\n",
    "    ]\n",
    "\n",
    "rules_electronics = filter_electronics_rules(rules)\n",
    "print(\"Electronics rules count:\", len(rules_electronics))\n"
   ]
  },
  {
   "cell_type": "code",
   "execution_count": 9,
   "id": "4f9523e9",
   "metadata": {},
   "outputs": [
    {
     "name": "stdout",
     "output_type": "stream",
     "text": [
      "\n",
      "[START] Saving rules to CSV...\n",
      "[END] Saving rules to CSV in 0.00 seconds\n",
      "\n",
      "[START] Saving rules to CSV...\n",
      "[END] Saving rules to CSV in 0.00 seconds\n"
     ]
    }
   ],
   "source": [
    "# 5. 保存规则\n",
    "@log_time(\"Saving rules to CSV\")\n",
    "def save_rules(rules, filename):\n",
    "    rules.to_csv(filename, index=False)\n",
    "\n",
    "save_rules(rules, \"all_association_rules.csv\")\n",
    "save_rules(rules_electronics, \"electronic_association_rules.csv\")\n"
   ]
  },
  {
   "cell_type": "code",
   "execution_count": 10,
   "id": "22ff4415",
   "metadata": {},
   "outputs": [
    {
     "name": "stdout",
     "output_type": "stream",
     "text": [
      "\n",
      "[START] Visualizing top-lift rules...\n"
     ]
    },
    {
     "name": "stderr",
     "output_type": "stream",
     "text": [
      "No artists with labels found to put in legend.  Note that artists whose label start with an underscore are ignored when legend() is called with no argument.\n"
     ]
    },
    {
     "data": {
      "image/png": "[encoded data removed]",
      "text/plain": [
       "<Figure size 1000x600 with 1 Axes>"
      ]
     },
     "metadata": {},
     "output_type": "display_data"
    },
    {
     "name": "stdout",
     "output_type": "stream",
     "text": [
      "[END] Visualizing top-lift rules in 0.83 seconds\n"
     ]
    }
   ],
   "source": [
    "# 6. 可视化\n",
    "@log_time(\"Visualizing top-lift rules\")\n",
    "def visualize_top_lift(rules, top_k=10):\n",
    "    top_rules = rules.sort_values(\"lift\", ascending=False).head(top_k)\n",
    "    plt.figure(figsize=(10,6))\n",
    "    sns.barplot(data=top_rules, x=\"lift\", y=top_rules.index, hue=\"confidence\", dodge=False)\n",
    "    plt.title(\"Top 10 Association Rules by Lift\")\n",
    "    plt.xlabel(\"Lift\")\n",
    "    plt.legend(title=\"Confidence\")\n",
    "    plt.tight_layout()\n",
    "    plt.savefig(\"top10_lift_rules.png\")\n",
    "    plt.show()\n",
    "\n",
    "visualize_top_lift(rules)\n"
   ]
  }
 ],
 "metadata": {
  "kernelspec": {
   "display_name": "FastSAM",
   "language": "python",
   "name": "python3"
  },
  "language_info": {
   "codemirror_mode": {
    "name": "ipython",
    "version": 3
   },
   "file_extension": ".py",
   "mimetype": "text/x-python",
   "name": "python",
   "nbconvert_exporter": "python",
   "pygments_lexer": "ipython3",
   "version": "3.9.18"
  }
 },
 "nbformat": 4,
 "nbformat_minor": 5
}
